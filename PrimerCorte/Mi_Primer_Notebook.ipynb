{
  "nbformat": 4,
  "nbformat_minor": 0,
  "metadata": {
    "colab": {
      "provenance": []
    },
    "kernelspec": {
      "name": "python3",
      "display_name": "Python 3"
    },
    "language_info": {
      "name": "python"
    }
  },
  "cells": [
    {
      "cell_type": "code",
      "execution_count": 3,
      "metadata": {
        "colab": {
          "base_uri": "https://localhost:8080/"
        },
        "id": "ry8bdetkHSyQ",
        "outputId": "3bcc285e-5565-4744-d78a-4901ac224129"
      },
      "outputs": [
        {
          "output_type": "stream",
          "name": "stdout",
          "text": [
            "hola we\n"
          ]
        }
      ],
      "source": [
        "import numpy as np\n",
        "print(\"hola we\")"
      ]
    },
    {
      "cell_type": "code",
      "source": [],
      "metadata": {
        "id": "CaHuInciHsfl"
      },
      "execution_count": null,
      "outputs": []
    }
  ]
}